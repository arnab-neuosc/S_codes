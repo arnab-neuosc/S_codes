{
 "cells": [
  {
   "cell_type": "markdown",
   "id": "7bc21d20-6144-421e-906c-509bac3f22e4",
   "metadata": {},
   "source": [
    "<span style=\"color:blue;\"> <span style=\"font-size:30px;\">__OPM Empty Room Recording Data Analysis__. </span> "
   ]
  },
  {
   "cell_type": "markdown",
   "id": "15e9fbb8-12ec-4742-9bf4-aa5ede6f115a",
   "metadata": {},
   "source": [
    "### Import necessary libraries and modules"
   ]
  },
  {
   "cell_type": "code",
   "execution_count": null,
   "id": "9c9c1b7c-8e3b-4283-9ee5-a51c1a630f68",
   "metadata": {},
   "outputs": [],
   "source": [
    "#Import necessary libraries and modules\n",
    "\n",
    "import mne\n",
    "import os\n",
    "import matplotlib\n",
    "import numpy as np\n",
    "import pandas as pd\n",
    "import matplotlib.pyplot as plt\n",
    "from scipy import signal\n",
    "import array"
   ]
  },
  {
   "cell_type": "code",
   "execution_count": null,
   "id": "43309e12-f9db-4c95-b7a9-13588d0134e4",
   "metadata": {},
   "outputs": [],
   "source": [
    "# List contents of the directory\n",
    "directory_path = '/home/rakshita/rds_folders/Sproject1/EmptyRoom/Recordings'\n",
    "files = os.listdir(directory_path)\n",
    "file_name='Rec3.fif'\n",
    "data_path=os.path.join(directory_path,file_name)\n",
    "# Check if the specific file exists\n",
    "file_exists = os.path.isfile(data_path)\n",
    "print(f\"File exists: {file_exists}\")"
   ]
  },
  {
   "cell_type": "code",
   "execution_count": null,
   "id": "982d233d-fc2e-4f11-8fd3-933dc1364811",
   "metadata": {},
   "outputs": [],
   "source": [
    "#Data Loading\n",
    "\n",
    "raw = mne.io.read_raw_fif(data_path, preload=True)\n"
   ]
  },
  {
   "cell_type": "code",
   "execution_count": null,
   "id": "cbd9e311-6597-4314-ab77-b7e852c9774a",
   "metadata": {},
   "outputs": [],
   "source": [
    "# Detailed information about the data\n",
    "\n",
    "print(raw.info)"
   ]
  },
  {
   "cell_type": "code",
   "execution_count": null,
   "id": "63d75976-226d-485f-b893-a3f252ecc1ed",
   "metadata": {},
   "outputs": [],
   "source": [
    "# Computing Power-Spectral Density\n",
    "# Change the fmin and fmax frequency as per the requirement\n",
    "n_fft = 2000\n",
    "raw_PSD = raw.compute_psd(method=\"welch\", fmin=1, fmax=60, picks=\"meg\", n_fft=n_fft, n_overlap=int(n_fft/2))\n"
   ]
  },
  {
   "cell_type": "code",
   "execution_count": null,
   "id": "5c734e03-1544-4f73-9044-bba298502ea6",
   "metadata": {},
   "outputs": [],
   "source": [
    "# Plot the PSD\n",
    "\n",
    "%matplotlib inline  \n",
    "raw_PSD.plot(picks='mag'); # As the OPM does not have any Gradiometeres"
   ]
  },
  {
   "cell_type": "code",
   "execution_count": null,
   "id": "67ef5377-707e-4975-9cc3-2c22a998ca85",
   "metadata": {},
   "outputs": [],
   "source": [
    "# Avergae power computation\n",
    "\n",
    "raw.plot_psd(fmax=100,picks='mag',average=True)"
   ]
  },
  {
   "cell_type": "code",
   "execution_count": null,
   "id": "aab01b70-d2ff-44d0-915f-d604a8a467a9",
   "metadata": {},
   "outputs": [],
   "source": [
    "# Plot the raw data (as per required time window and channels for inspection)\n",
    "%matplotlib inline  \n",
    "raw.plot(duration=10, n_channels=10, scalings='auto')"
   ]
  },
  {
   "cell_type": "code",
   "execution_count": null,
   "id": "06eed413-bebf-4328-8201-e4da29179700",
   "metadata": {},
   "outputs": [],
   "source": [
    "# PSD based ranking and plot of channels \n",
    "\n",
    "fmin = 0.1  # minimum frequency in Hz\n",
    "fmax = 100  # maximum frequency in Hz\n",
    "\n",
    "# Compute the PSD for all channels\n",
    "psds = raw.compute_psd(method=\"welch\", fmin=1, fmax=60, picks=\"meg\", n_fft=n_fft, n_overlap=int(n_fft/2))\n",
    "\n",
    "# Extract the PSD values and frequencies\n",
    "psd_values = psds.get_data()  \n",
    "freqs = psds.freqs  \n",
    "\n",
    "\n",
    "psd_values = np.array(psd_values)  \n",
    "freqs = np.array(freqs) \n",
    "\n",
    "\n",
    "average_power = np.mean(psd_values, axis=1)\n",
    "\n",
    "\n",
    "channel_names = raw.info['ch_names']\n",
    "\n",
    "\n",
    "\n",
    "channel_data = list(zip(channel_names, average_power, psd_values))\n",
    "channel_data.sort(key=lambda x: x[1], reverse=True)\n",
    "\n",
    "# Plot the PSD for each channel, sorted by average power\n",
    "for rank, (channel, avg_power, psd) in enumerate(channel_data, 1):\n",
    "    plt.figure()\n",
    "    plt.plot(freqs, 10 * np.log10(psd), label=f'Rank {rank}: {channel}')\n",
    "    plt.xlabel('Frequency (Hz)')\n",
    "    plt.ylabel('Power Spectral Density (dB/Hz)')\n",
    "    plt.title(f'PSD - {channel} ')\n",
    "    plt.legend()\n",
    "    plt.grid(True)\n",
    "    plt.show()\n"
   ]
  },
  {
   "cell_type": "code",
   "execution_count": null,
   "id": "636e0b62-60d6-452c-b497-7924d9be525b",
   "metadata": {},
   "outputs": [],
   "source": [
    "# Sort the DataFrame by Average Power in descending order\n",
    "df_sorted = df.sort_values(by='Average Power', ascending=False).reset_index(drop=True)\n",
    "\n",
    "# Print the DataFrame\n",
    "print(df_sorted)"
   ]
  },
  {
   "cell_type": "markdown",
   "id": "67be77dd-95b4-4191-a1c5-8d3793036165",
   "metadata": {},
   "source": [
    "##  New OPM Data Analysis taken on 06 August 2024"
   ]
  },
  {
   "cell_type": "code",
   "execution_count": null,
   "id": "ad75ff46-38a4-42d4-9e4a-29e3ce284852",
   "metadata": {},
   "outputs": [],
   "source": [
    "# List contents of the directory\n",
    "directory_path = '/home/rakshita/sub-Emptyroom'\n",
    "files = os.listdir(directory_path)\n",
    "data_path = '/home/rakshita/sub-Emptyroom/Emptyroom06082024.fif'\n",
    "# Check if the specific file exists\n",
    "file_exists = os.path.isfile(data_path)\n",
    "print(f\"File exists: {file_exists}\")"
   ]
  },
  {
   "cell_type": "code",
   "execution_count": null,
   "id": "f6f3920e-5d86-43df-b482-e8eb5d25ee37",
   "metadata": {},
   "outputs": [],
   "source": [
    "raw = mne.io.read_raw_fif(data_path, preload=True)"
   ]
  },
  {
   "cell_type": "code",
   "execution_count": null,
   "id": "e07cefb2-a966-4746-bf7a-e4ec2a738f87",
   "metadata": {},
   "outputs": [],
   "source": [
    "print(raw.info)"
   ]
  },
  {
   "cell_type": "markdown",
   "id": "a2881f5f-e0e1-4116-8b2c-bbfd1d7aa7f0",
   "metadata": {},
   "source": [
    "## Simple script to downsample the OPM data and save it in the same directory"
   ]
  },
  {
   "cell_type": "code",
   "execution_count": null,
   "id": "76ead541-f685-40fc-976a-f59d44ea5cd6",
   "metadata": {},
   "outputs": [],
   "source": [
    "## Downsampling the original file with the desired downsampling frequency.\n",
    "\n",
    "rawfile='/home/rakshita/sub-Emptyroom/Emptyroom06082024.fif'\n",
    "raw = mne.io.read_raw_fif(rawfile, preload=True)\n",
    "\n",
    "print(f'Original sampling frequency: {raw.info[\"sfreq\"]} Hz')\n",
    "\n",
    "# Desired Downsampling Frequency\n",
    "d_sample=1000\n",
    "raw.resample(d_sample, npad='auto')\n",
    "\n",
    "# Print new sampling frequency\n",
    "print(f'New sampling frequency: {raw.info[\"sfreq\"]} Hz')\n",
    "\n",
    "output_file = rawfile.replace('.fif', '_d_sample1000.fif')\n",
    "\n",
    "# Save the downsampled data to a new FIF file\n",
    "raw.save(output_file, overwrite=True)\n",
    "\n",
    "print(f'Downsampled file saved as: {output_file}')\n"
   ]
  },
  {
   "cell_type": "code",
   "execution_count": null,
   "id": "1ae94bb4-4152-490d-97b1-0706644e0666",
   "metadata": {},
   "outputs": [],
   "source": [
    "## Reading the newly generated downsampled fif file.\n",
    "\n",
    "new_file = '/home/rakshita/sub-Emptyroom/Emptyroom06082024_d_sample1000.fif'\n",
    "raw_new=mne.io.read_raw_fif(new_file, preload=True)"
   ]
  },
  {
   "cell_type": "markdown",
   "id": "19e26bae-78cb-4c4c-aaeb-1801be9f31f1",
   "metadata": {},
   "source": [
    "## Deatailed information of the downsampled OPM Data"
   ]
  },
  {
   "cell_type": "code",
   "execution_count": null,
   "id": "88f1a63c-1d20-4b17-9e95-644b7a5acc60",
   "metadata": {},
   "outputs": [],
   "source": [
    "## Print the detailed information of new fif file\n",
    "\n",
    "print(raw_new.info)"
   ]
  },
  {
   "cell_type": "code",
   "execution_count": null,
   "id": "86bd7a92-9497-4b55-85e8-19479ff401ae",
   "metadata": {},
   "outputs": [],
   "source": [
    "# Computing Power-Spectral Density\n",
    "# Change the fmin and fmax frequency as per the requirement\n",
    "n_fft = 10000\n",
    "raw_PSD = raw.compute_psd(method=\"welch\", fmin=1, fmax=120, picks=\"meg\", n_fft=n_fft, n_overlap=int(n_fft/2))\n",
    "new_PSD = raw_new.compute_psd(method=\"welch\", fmin=1, fmax=120, picks=\"meg\", n_fft=n_fft, n_overlap=int(n_fft/2))"
   ]
  },
  {
   "cell_type": "markdown",
   "id": "0a2a5863-e174-4584-8064-6e5b1e0d7952",
   "metadata": {},
   "source": [
    "## Compairing Original and Downsampled version"
   ]
  },
  {
   "cell_type": "code",
   "execution_count": null,
   "id": "e80a1477-fa80-49db-ae49-a082b6369362",
   "metadata": {},
   "outputs": [],
   "source": [
    "# Compare PSD between original and downsampled version\n",
    "fig1 = raw_PSD.plot(picks='mag')\n",
    "fig2 = new_PSD.plot(picks='mag')\n"
   ]
  },
  {
   "cell_type": "code",
   "execution_count": null,
   "id": "cc3e45cd-a929-4737-8535-1e5d23407c9a",
   "metadata": {},
   "outputs": [],
   "source": [
    "#### create figure\n",
    "fig, (ax1, ax2) = plt.subplots(2, 1, figsize=(10, 12))\n",
    "\n",
    "# Plot the original PSD on the first subplot\n",
    "for line in fig1.axes[0].lines:\n",
    "    ax1.plot(line.get_xdata(), line.get_ydata())\n",
    "ax1.set_xlim(0, 60)\n",
    "ax1.set_xlabel('Frequency (Hz)')\n",
    "ax1.set_ylabel('Power Spectral Density (dB)')\n",
    "ax1.set_title('Original PSD (5000 Hz)')\n",
    "ax1.legend()\n",
    "\n",
    "# Plot the downsampled PSD on the second subplot\n",
    "for line in fig2.axes[0].lines:\n",
    "    ax2.plot(line.get_xdata(), line.get_ydata())\n",
    "ax2.set_xlim(0, 60)\n",
    "ax2.set_xlabel('Frequency (Hz)')\n",
    "ax2.set_ylabel('Power Spectral Density (dB)')\n",
    "ax2.set_title('Downsampled PSD (1000 Hz)')\n",
    "ax2.legend()\n",
    "\n",
    "#plt.tight_layout()\n",
    "plt.show()\n"
   ]
  },
  {
   "cell_type": "code",
   "execution_count": null,
   "id": "75b4093d-a9d9-4f86-aba2-57358f340508",
   "metadata": {},
   "outputs": [],
   "source": [
    "data, times = raw_new[:]"
   ]
  },
  {
   "cell_type": "code",
   "execution_count": null,
   "id": "3bd699fa-e462-45cb-828a-d88ede98f5aa",
   "metadata": {},
   "outputs": [],
   "source": [
    "data.shape"
   ]
  },
  {
   "cell_type": "code",
   "execution_count": null,
   "id": "bb810a81-ff88-4efb-8a65-0f418b6917ac",
   "metadata": {},
   "outputs": [],
   "source": [
    "data1,times1=raw[:]"
   ]
  },
  {
   "cell_type": "code",
   "execution_count": null,
   "id": "f80a3c03-c20d-4c3f-b63c-f71f5a2910a1",
   "metadata": {},
   "outputs": [],
   "source": [
    "data1.shape"
   ]
  },
  {
   "cell_type": "code",
   "execution_count": null,
   "id": "75c06d12-6276-495d-bd5d-9723e0334550",
   "metadata": {},
   "outputs": [],
   "source": [
    "# Check original data dimensions\n",
    "original_data, _ = raw[:]\n",
    "original_n_samples = original_data.shape[1]\n",
    "print(f'Original number of samples: {original_n_samples}')\n",
    "\n",
    "# Desired Downsampling Frequency\n",
    "d_sample = 1000\n",
    "raw.resample(d_sample, npad='auto')\n",
    "\n",
    "# Print new sampling frequency\n",
    "print(f'New sampling frequency: {raw.info[\"sfreq\"]} Hz')\n",
    "\n",
    "# Check new data dimensions\n",
    "new_data, _ = raw[:]\n",
    "new_n_samples = new_data.shape[1]\n",
    "print(f'New number of samples: {new_n_samples}')"
   ]
  },
  {
   "cell_type": "markdown",
   "id": "1799b00b-eda6-4e39-b658-72c8b5b7de4e",
   "metadata": {},
   "source": [
    "# Resampling as suggested by Prof. Ole"
   ]
  },
  {
   "cell_type": "code",
   "execution_count": null,
   "id": "6e303d36-d1c6-41a1-bada-8a006fe0a4f6",
   "metadata": {},
   "outputs": [],
   "source": [
    "### Filtering and decimation\n",
    "## Make sure Transition bandwidth is less than half of the upper cut-off.\n",
    "current_sfreq = raw.info['sfreq']\n",
    "desired_sfreq = 1000  # Hz\n",
    "decim = np.round(current_sfreq / desired_sfreq).astype(int)\n",
    "obtained_sfreq = current_sfreq / decim\n",
    "lowpass_freq = obtained_sfreq / 4.\n",
    "\n",
    "raw_filtered = raw.copy().filter(l_freq=None, h_freq=lowpass_freq)\n",
    "\n"
   ]
  },
  {
   "cell_type": "markdown",
   "id": "926859bf-4945-4917-9e17-ab178ed71531",
   "metadata": {},
   "source": [
    "## Comparsion of Sampling Strategies ( Decimation function vs Manual Decimation)"
   ]
  },
  {
   "cell_type": "code",
   "execution_count": null,
   "id": "e16a8e7e-a67a-48ee-9a31-b4e1676c33d4",
   "metadata": {},
   "outputs": [],
   "source": [
    "# Get data from the MEG object\n",
    "data = raw.get_data()\n",
    "data_f=raw_filtered.get_data()\n",
    "sfreq = raw.info['sfreq']\n",
    "sfreq_f=raw_filtered.info['sfreq']\n",
    "time = np.arange(data.shape[1]) / sfreq\n",
    "    "
   ]
  },
  {
   "cell_type": "code",
   "execution_count": null,
   "id": "2921fe58-a0d6-49af-a666-3a22c4d3bdb1",
   "metadata": {},
   "outputs": [],
   "source": [
    "#decimated_data = np.zeros((data.shape[0], data.shape[1] // downsampling_factor))\n",
    "ds_factor = 4\n",
    "    \n",
    "# Decimated sampling frequency\n",
    "sfreq_new = sfreq / ds_factor\n",
    "    \n",
    "    # Decimated data storage\n",
    "decimated_data = np.zeros((data.shape[0], data.shape[1] // ds_factor))\n",
    "decimated_data_new = np.zeros((data_f.shape[0], (data_f.shape[1]-1) // ds_factor))   "
   ]
  },
  {
   "cell_type": "code",
   "execution_count": null,
   "id": "dcd92d08-e55b-489e-8507-3da738384ecc",
   "metadata": {},
   "outputs": [],
   "source": [
    "for i, channel_data in enumerate(data):\n",
    "    # decimation using scipy's decimate function\n",
    "    ydem = signal.decimate(channel_data, ds_factor)\n",
    "    decimated_data[i, :] = ydem      \n",
    "    # Create X axis variables\n",
    "    t_new = np.arange(len(ydem)) / sfreq_new\n",
    "        "
   ]
  },
  {
   "cell_type": "code",
   "execution_count": null,
   "id": "d028f5b5-6eab-4d55-a4d6-a8388ddee831",
   "metadata": {},
   "outputs": [],
   "source": [
    "for i, channel_data in enumerate(data_f):\n",
    "    # decimation using scipy's decimate function\n",
    "    manual_decimation = channel_data[:-ds_factor:ds_factor]\n",
    "    #np.append(manual_decimation, 0)\n",
    "    decimated_data_new[i,:]=manual_decimation\n",
    "    # Create X axis variables\n",
    "    t_manual_decimation = np.arange(len(manual_decimation)) / sfreq_new"
   ]
  },
  {
   "cell_type": "code",
   "execution_count": null,
   "id": "e724c06d-cf1c-4cc0-8275-573a58777771",
   "metadata": {},
   "outputs": [],
   "source": [
    "    # Plot original and decimated signals for checking\n",
    "    for i, channel_data in enumerate(data):\n",
    "        plt.figure(figsize=(15, 5))\n",
    "        plt.plot(t_new, decimated_data[i-1], 'o-', label='Scipy Decimate')\n",
    "        plt.plot(t_manual_decimation, decimated_data_new[i-1], 'x-', label='Manual Decimate')\n",
    "        plt.title(f'Channel {i + 1}')\n",
    "        plt.legend(loc='best')\n",
    "        plt.xlabel('Time (s)')\n",
    "        plt.ylabel('Amplitude')\n",
    "        plt.show()\n",
    "    "
   ]
  },
  {
   "cell_type": "code",
   "execution_count": null,
   "id": "e71cae0b-1eac-49aa-8b15-a8ddc9f02799",
   "metadata": {},
   "outputs": [],
   "source": [
    "data_f.shape[1]"
   ]
  },
  {
   "cell_type": "code",
   "execution_count": null,
   "id": "d3ce39c5-65dd-4000-afc3-6bc00ae679d5",
   "metadata": {},
   "outputs": [],
   "source": [
    "(data_f.shape[0])"
   ]
  },
  {
   "cell_type": "code",
   "execution_count": null,
   "id": "43413d08-be47-46b2-a3be-e0831e30dde3",
   "metadata": {},
   "outputs": [],
   "source": [
    "# Return Data\n",
    "raw_decimated = mne.io.RawArray(decimated_data)"
   ]
  },
  {
   "cell_type": "code",
   "execution_count": null,
   "id": "ad0f4d4b-d3c6-45e3-9404-593fa3005afb",
   "metadata": {},
   "outputs": [],
   "source": [
    "len(ydem)"
   ]
  },
  {
   "cell_type": "code",
   "execution_count": null,
   "id": "c39a9186-c7ca-4a3e-9058-55e04bb3058b",
   "metadata": {},
   "outputs": [],
   "source": [
    "len(manual_decimation)"
   ]
  },
  {
   "cell_type": "code",
   "execution_count": null,
   "id": "6ce0de33-20c2-4e42-9e90-26c7f31de0fe",
   "metadata": {},
   "outputs": [],
   "source": [
    "data.shape"
   ]
  },
  {
   "cell_type": "code",
   "execution_count": null,
   "id": "6bcbf7fb-d886-4c04-a7f8-a6fe9e4ce627",
   "metadata": {},
   "outputs": [],
   "source": [
    "events = mne.find_events(raw_filtered)"
   ]
  },
  {
   "cell_type": "code",
   "execution_count": null,
   "id": "a46e9b0f-b190-4e04-a1b8-3628adb49d1b",
   "metadata": {},
   "outputs": [],
   "source": [
    "epochs = mne.Epochs(raw_filtered, events, decim=decim)\n",
    "\n",
    "print('desired sampling frequency was {} Hz; decim factor of {} yielded an '\n",
    "      'actual sampling frequency of {} Hz.'\n",
    "      .format(desired_sfreq, decim, epochs.info['sfreq']))\n"
   ]
  },
  {
   "cell_type": "code",
   "execution_count": null,
   "id": "084576d3-c360-4998-b876-dc481e422f0a",
   "metadata": {},
   "outputs": [],
   "source": [
    "events"
   ]
  },
  {
   "cell_type": "markdown",
   "id": "12b24c98-03b0-4501-8375-a7651d2210e1",
   "metadata": {},
   "source": [
    "# Sensor Noise Estimation"
   ]
  },
  {
   "cell_type": "code",
   "execution_count": null,
   "id": "8de864c0-e397-404b-a154-9d43f682e4d3",
   "metadata": {},
   "outputs": [],
   "source": [
    "import mne\n",
    "import numpy as np\n",
    "import pandas as pd\n",
    "from datetime import datetime\n",
    "import os\n",
    "import matplotlib.pyplot as plt"
   ]
  },
  {
   "cell_type": "code",
   "execution_count": null,
   "id": "41ae0c9c-54a5-45f9-8a42-8ed999bc90f3",
   "metadata": {},
   "outputs": [],
   "source": [
    "data_path = '/home/rakshita/sub-Emptyroom/Emptyroom06082024.fif'\n",
    "raw = mne.io.read_raw_fif(data_path, preload=True)"
   ]
  },
  {
   "cell_type": "code",
   "execution_count": null,
   "id": "6408717d-953e-4e0e-8194-314668e6a970",
   "metadata": {},
   "outputs": [],
   "source": [
    "# Compute Power Spectral Density (PSD)\n",
    "n_fft = 10000\n",
    "raw_PSD = raw.compute_psd(method=\"welch\", fmin=1, fmax=120, picks=\"meg\", n_fft=n_fft, n_overlap=int(n_fft/2))\n",
    "psds = raw_PSD.get_data()  # PSD values\n",
    "freqs = raw_PSD.freqs "
   ]
  },
  {
   "cell_type": "code",
   "execution_count": null,
   "id": "b29c297f-2389-4310-b300-82958a36ef7b",
   "metadata": {},
   "outputs": [],
   "source": [
    "# Initialize a list to hold the average PSD values for each channel\n",
    "avg_psd_all = []\n",
    "avg_psd_60_80 = []\n",
    "power_50hz = []\n",
    "\n",
    "# Iterate over each channel to compute the required metrics\n",
    "for psd in psds:\n",
    "    avg_psd_all.append(np.mean(psd))\n",
    "    avg_psd_60_80.append(np.mean(psd[(freqs >= 60) & (freqs <= 80)]))\n",
    "    power_50hz.append(psd[np.argmin(np.abs(freqs - 50))])"
   ]
  },
  {
   "cell_type": "markdown",
   "id": "e585110f-c6a9-44d7-8c47-0b5c70564bc7",
   "metadata": {},
   "source": [
    "### Plot Channel PSD"
   ]
  },
  {
   "cell_type": "code",
   "execution_count": null,
   "id": "4eaa04ef-1eae-44ab-bf6b-92129c7f6a6d",
   "metadata": {},
   "outputs": [],
   "source": [
    "# PSD based ranking and plot of channels \n",
    "\n",
    "fmin = 0.1  # minimum frequency in Hz\n",
    "fmax = 100  # maximum frequency in Hz\n",
    "\n",
    "# Compute the PSD for all channels\n",
    "psds = raw.compute_psd(method=\"welch\", fmin=1, fmax=60, picks=\"meg\", n_fft=n_fft, n_overlap=int(n_fft/2))\n",
    "\n",
    "# Extract power and frequencies\n",
    "psd_values = psds.get_data()  \n",
    "freqs = psds.freqs  \n",
    "\n",
    "\n",
    "psd_values = np.array(psd_values)  \n",
    "freqs = np.array(freqs) \n",
    "\n",
    "\n",
    "average_power = np.mean(psd_values, axis=1)\n",
    "\n",
    "\n",
    "channel_names = raw.info['ch_names']\n",
    "\n",
    "\n",
    "channel_data = list(zip(channel_names, average_power, psd_values))\n",
    "channel_data.sort(key=lambda x: x[1], reverse=True)\n",
    "\n",
    "# Plot the PSD for each channel\n",
    "for rank, (channel, avg_power, psd) in enumerate(channel_data, 1):\n",
    "    plt.figure()\n",
    "    plt.plot(freqs, 10 * np.log10(psd), label=f'Rank {rank}: {channel}')\n",
    "    plt.xlabel('Frequency (Hz)')\n",
    "    plt.ylabel('Power Spectral Density (dB/Hz)')\n",
    "    plt.title(f'PSD - {channel} ')\n",
    "    plt.legend()\n",
    "    plt.grid(True)\n",
    "    plt.show()"
   ]
  },
  {
   "cell_type": "code",
   "execution_count": null,
   "id": "86c37509-f930-4c46-b399-bd59e97532d5",
   "metadata": {},
   "outputs": [],
   "source": [
    "import numpy as np\n",
    "import pandas as pd\n",
    "from datetime import datetime\n",
    "import os\n",
    "\n",
    "max_len = len(raw.ch_names)\n",
    "\n",
    "if len(avg_psd_all) < max_len:\n",
    "    avg_psd_all.extend([np.nan] * (max_len - len(avg_psd_all)))\n",
    "\n",
    "if len(avg_psd_60_80) < max_len:\n",
    "    avg_psd_60_80.extend([np.nan] * (max_len - len(avg_psd_60_80)))\n",
    "\n",
    "if len(power_50hz) < max_len:\n",
    "    power_50hz.extend([np.nan] * (max_len - len(power_50hz)))\n",
    "\n",
    "# Prepare DataFrame\n",
    "data_dict = {\n",
    "    'Date': [datetime.now().strftime('%Y-%m-%d')] * max_len,\n",
    "    'File Name': [os.path.basename('Emptyroom06082024.fif')] * max_len,\n",
    "    'Channel': raw.ch_names,\n",
    "    'Avg Power (0-120 Hz)': avg_psd_all,\n",
    "    'Avg Power (60-80 Hz)': avg_psd_60_80,\n",
    "    'Power at 50 Hz': power_50hz\n",
    "}\n",
    "\n",
    "# Convert to DataFrame\n",
    "df = pd.DataFrame(data_dict)\n"
   ]
  },
  {
   "cell_type": "code",
   "execution_count": null,
   "id": "6fa15bed-9b48-4179-bbc7-2d3d9602fbda",
   "metadata": {},
   "outputs": [],
   "source": [
    "#df = df.sort_values(by='Channel', key=lambda col: col.str.extract('(\\d+)').fillna(col))\n",
    "\n",
    "# Load existing CSV if exists\n",
    "csv_filename = 'psd_data.csv'\n",
    "if os.path.exists(csv_filename):\n",
    "    existing_df = pd.read_csv(csv_filename)\n",
    "    date_entry_exists = existing_df['Date'].isin(df['Date'])\n",
    "    if date_entry_exists.any():\n",
    "        overwrite = input(f\"Entry for {datetime.now().strftime('%Y-%m-%d')} already exists. Overwrite? (yes/no): \")\n",
    "        if overwrite.lower() == 'yes':\n",
    "            existing_df = existing_df[~date_entry_exists]\n",
    "        else:\n",
    "            df = pd.concat([existing_df, df], ignore_index=True)\n",
    "    else:\n",
    "        df = pd.concat([existing_df, df], ignore_index=True)\n",
    "\n",
    "# Save DataFrame to CSV\n",
    "df.to_csv(csv_filename, index=False)\n",
    "\n",
    "print(f\"Data saved to {csv_filename}\")"
   ]
  },
  {
   "cell_type": "code",
   "execution_count": null,
   "id": "77b6299f-1bc0-411a-ac90-7677e2b37215",
   "metadata": {},
   "outputs": [],
   "source": [
    "plt.plot(freqs, psds[1])"
   ]
  },
  {
   "cell_type": "code",
   "execution_count": null,
   "id": "654b5635-68fa-449b-89f0-bb4ace655863",
   "metadata": {},
   "outputs": [],
   "source": [
    "len(power_50hz)"
   ]
  },
  {
   "cell_type": "code",
   "execution_count": null,
   "id": "61ac2e48-9eff-44db-abe0-851a9ffb793e",
   "metadata": {},
   "outputs": [],
   "source": [
    "df.head()"
   ]
  },
  {
   "cell_type": "code",
   "execution_count": null,
   "id": "5c4bff54-4e8d-49bf-a88f-06e1a148855d",
   "metadata": {},
   "outputs": [],
   "source": [
    "## Blind Source Separation\n",
    "from mne.preprocessing import ICA\n",
    "\n",
    "# Set up parameters\n",
    "n_components = 5  # Number of ICA components\n",
    "random_state = 95  \n",
    "method = 'fastica'  \n",
    "\n",
    "ica = ICA(n_components=n_components, method=method, random_state=random_state)\n",
    "ica.fit(raw)\n",
    "\n",
    "\n",
    "ica.plot_components()\n",
    "\n",
    "for ch_idx, ch_name in enumerate(raw.ch_names):\n",
    "    print(f\"Plotting for channel {ch_name} ({ch_idx + 1}/{len(raw.ch_names)})\")\n",
    "    ica.plot_overlay(raw.copy().pick_channels([ch_name]), title=f'Channel {ch_name}', show=True)\n",
    "\n",
    "for component in range(n_components):\n",
    "    plt.figure()\n",
    "    plt.plot(ica.get_sources(raw).get_data()[component], label=f'ICA Component {component + 1}')\n",
    "    plt.title(f'ICA Component {component + 1} Time Series')\n",
    "    plt.legend()\n",
    "    plt.show()\n",
    "\n",
    "print(\"ICA decomposition completed and visualized.\")\n",
    "\n"
   ]
  },
  {
   "cell_type": "code",
   "execution_count": null,
   "id": "b2558780-21a4-4812-b749-2671216149ae",
   "metadata": {},
   "outputs": [],
   "source": [
    "print(raw.get_channel_types())"
   ]
  }
 ],
 "metadata": {
  "kernelspec": {
   "display_name": "Python 3 (ipykernel)",
   "language": "python",
   "name": "python3"
  },
  "language_info": {
   "codemirror_mode": {
    "name": "ipython",
    "version": 3
   },
   "file_extension": ".py",
   "mimetype": "text/x-python",
   "name": "python",
   "nbconvert_exporter": "python",
   "pygments_lexer": "ipython3",
   "version": "3.12.4"
  }
 },
 "nbformat": 4,
 "nbformat_minor": 5
}
