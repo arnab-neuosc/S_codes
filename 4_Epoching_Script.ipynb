{
 "cells": [
  {
   "cell_type": "markdown",
   "id": "d735af6f-2753-4aec-a499-1e60eb1e0004",
   "metadata": {},
   "source": [
    "#### Load necessary modules and Files"
   ]
  },
  {
   "cell_type": "code",
   "execution_count": 1,
   "id": "42c7c385-d594-42d4-9df2-30e6760efcae",
   "metadata": {},
   "outputs": [],
   "source": [
    "#Import necessary libraries and modules\n",
    "import mne\n",
    "import os\n",
    "import matplotlib\n",
    "import numpy as np\n",
    "import pandas as pd\n",
    "import matplotlib.pyplot as plt\n",
    "from scipy import signal\n",
    "import array\n"
   ]
  },
  {
   "cell_type": "code",
   "execution_count": 2,
   "id": "71fc2af2-a563-495b-ab73-387cdaf03cc9",
   "metadata": {},
   "outputs": [],
   "source": [
    "# List contents of the directory\n",
    "directory_path = '/home/rakshita/rds_folders/Sproject1/EmptyRoom/Recordings'\n",
    "files = os.listdir(directory_path)\n",
    "file_name='Rec8.fif'"
   ]
  },
  {
   "cell_type": "code",
   "execution_count": 3,
   "id": "9cc8f451-0597-4d48-87fb-d12c0966d199",
   "metadata": {},
   "outputs": [
    {
     "name": "stdout",
     "output_type": "stream",
     "text": [
      "File exists: True\n"
     ]
    }
   ],
   "source": [
    "data_path=os.path.join(directory_path,file_name)\n",
    "# Check if the specific file exists\n",
    "file_exists = os.path.isfile(data_path)\n",
    "print(f\"File exists: {file_exists}\")"
   ]
  },
  {
   "cell_type": "markdown",
   "id": "fad886b8-8b0d-4788-b599-53322b8b107b",
   "metadata": {},
   "source": [
    "#### Loading Raw data from the fif file and Event Parsing"
   ]
  },
  {
   "cell_type": "code",
   "execution_count": 4,
   "id": "28b61502-a7d6-44f4-9701-5ac26ff2fab4",
   "metadata": {},
   "outputs": [
    {
     "name": "stdout",
     "output_type": "stream",
     "text": [
      "Opening raw data file /home/rakshita/rds_folders/Sproject1/EmptyRoom/Recordings/Rec8.fif...\n"
     ]
    },
    {
     "name": "stderr",
     "output_type": "stream",
     "text": [
      "/tmp/ipykernel_28393/2304183786.py:2: RuntimeWarning: This filename (/home/rakshita/rds_folders/Sproject1/EmptyRoom/Recordings/Rec8.fif) does not conform to MNE naming conventions. All raw files should end with raw.fif, raw_sss.fif, raw_tsss.fif, _meg.fif, _eeg.fif, _ieeg.fif, raw.fif.gz, raw_sss.fif.gz, raw_tsss.fif.gz, _meg.fif.gz, _eeg.fif.gz or _ieeg.fif.gz\n",
      "  raw = mne.io.read_raw_fif(data_path, preload=True)\n"
     ]
    },
    {
     "name": "stdout",
     "output_type": "stream",
     "text": [
      "Isotrak not found\n",
      "    Range : 0 ... 901799 =      0.000 ...   180.360 secs\n",
      "Ready.\n",
      "Reading 0 ... 901799  =      0.000 ...   180.360 secs...\n",
      "100 events found on stim channel di32\n",
      "Event IDs: [   1    2    6    7  300  400  500  800  900 1000 1100 1300]\n"
     ]
    }
   ],
   "source": [
    "#Data Loading + event_parsing\n",
    "raw = mne.io.read_raw_fif(data_path, preload=True)\n",
    "events = mne.find_events(raw, stim_channel=\"di32\")"
   ]
  },
  {
   "cell_type": "code",
   "execution_count": 5,
   "id": "92870da7-02b3-4341-a4f0-c2c4afaec4c5",
   "metadata": {},
   "outputs": [],
   "source": [
    "# Creating event annotations\n",
    "event_dict = {\n",
    "    \"cue/right\": 1,\n",
    "    \"cue/left\": 2,\n",
    "    \"trialstart\":300,\n",
    "    \"stimonset\":400,\n",
    "    \"catchonset\":500,\n",
    "    \"dot/right\": 6,\n",
    "    \"dot/left\": 7,\n",
    "    \"resp\": 800,\n",
    "    \"blkstart\": 900,\n",
    "    \"blkend\":1000,\n",
    "    \"expend\":1100,\n",
    "    \"cue/noresp\":1300\n",
    "}"
   ]
  },
  {
   "cell_type": "markdown",
   "id": "269192c6-ca70-4fd2-9e94-9b8d9dab4ebe",
   "metadata": {},
   "source": [
    "#### Epoch Extraction"
   ]
  },
  {
   "cell_type": "code",
   "execution_count": 6,
   "id": "660a1075-6389-40e9-ba90-a4f29c1656a6",
   "metadata": {},
   "outputs": [
    {
     "name": "stdout",
     "output_type": "stream",
     "text": [
      "Not setting metadata\n",
      "100 matching events found\n",
      "Setting baseline interval to [-0.3, 0.0] s\n",
      "Applying baseline correction (mode: mean)\n",
      "0 projection items activated\n",
      "Using data from preloaded Raw for 100 events and 5001 original time points ...\n",
      "0 bad epochs dropped\n",
      "{'cue/right': 1, 'cue/left': 2, 'trialstart': 300, 'stimonset': 400, 'catchonset': 500, 'dot/right': 6, 'dot/left': 7, 'resp': 800, 'blkstart': 900, 'blkend': 1000, 'expend': 1100, 'cue/noresp': 1300}\n"
     ]
    }
   ],
   "source": [
    "# Extracting Epochs\n",
    "epochs = mne.Epochs(raw, events, tmin=-0.3, tmax=0.7, event_id=event_dict, preload=True)\n",
    "print(epochs.event_id)"
   ]
  },
  {
   "cell_type": "markdown",
   "id": "440c15ac-0b5f-4908-a459-140dd791db3a",
   "metadata": {},
   "source": [
    "#### Plot the Epochs"
   ]
  },
  {
   "cell_type": "code",
   "execution_count": 9,
   "id": "21367403-27e5-4064-9bc8-70f1d9a8a6eb",
   "metadata": {},
   "outputs": [
    {
     "name": "stdout",
     "output_type": "stream",
     "text": [
      "You seem to have overlapping epochs. Some event lines may be duplicated in the plot.\n"
     ]
    },
    {
     "name": "stderr",
     "output_type": "stream",
     "text": [
      "/tmp/ipykernel_28393/773321786.py:1: RuntimeWarning: More events than default colors available. You should pass a list of unique colors.\n",
      "  epochs.plot(n_epochs=200, events=True)\n"
     ]
    },
    {
     "data": {
      "text/plain": [
       "<mne_qt_browser._pg_figure.MNEQtBrowser at 0x70184105a180>"
      ]
     },
     "execution_count": 9,
     "metadata": {},
     "output_type": "execute_result"
    },
    {
     "name": "stdout",
     "output_type": "stream",
     "text": [
      "Dropped 0 epochs: \n",
      "The following epochs were marked as bad and are dropped:\n",
      "[]\n",
      "Channels marked as bad:\n",
      "none\n"
     ]
    }
   ],
   "source": [
    "epochs.plot(n_epochs=10, events=True)"
   ]
  },
  {
   "cell_type": "code",
   "execution_count": null,
   "id": "1e72780c-4ea5-4cc9-8512-bfca7056a547",
   "metadata": {},
   "outputs": [],
   "source": []
  }
 ],
 "metadata": {
  "kernelspec": {
   "display_name": "Python 3 (ipykernel)",
   "language": "python",
   "name": "python3"
  },
  "language_info": {
   "codemirror_mode": {
    "name": "ipython",
    "version": 3
   },
   "file_extension": ".py",
   "mimetype": "text/x-python",
   "name": "python",
   "nbconvert_exporter": "python",
   "pygments_lexer": "ipython3",
   "version": "3.12.4"
  }
 },
 "nbformat": 4,
 "nbformat_minor": 5
}
