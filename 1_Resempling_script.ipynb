{
 "cells": [
  {
   "cell_type": "markdown",
   "id": "7d87e7ed-e852-4645-86f7-b82ccd69bf5e",
   "metadata": {},
   "source": [
    "# Re-Sampling of OPM Data and saving it to a .fif file"
   ]
  },
  {
   "cell_type": "code",
   "execution_count": 1,
   "id": "77d672a5-6bac-4781-ac0a-cb5a0345112c",
   "metadata": {},
   "outputs": [],
   "source": [
    "#Import necessary libraries and modules\n",
    "import mne\n",
    "import os\n",
    "import matplotlib\n",
    "import numpy as np\n",
    "import pandas as pd\n",
    "import matplotlib.pyplot as plt\n",
    "from scipy import signal\n",
    "import array\n"
   ]
  },
  {
   "cell_type": "markdown",
   "id": "28dbcfb9-27d2-4cd6-a57b-219e9b6bc393",
   "metadata": {},
   "source": [
    "#### Checking if the files are accessible"
   ]
  },
  {
   "cell_type": "code",
   "execution_count": 18,
   "id": "6ed39f27-c5ad-41ca-bd82-d1e3e4dfe7ad",
   "metadata": {},
   "outputs": [
    {
     "name": "stdout",
     "output_type": "stream",
     "text": [
      "File exists: True\n"
     ]
    }
   ],
   "source": [
    "# List contents of the directory\n",
    "directory_path = '/home/rakshita/rds_folders/EmptyRoom'\n",
    "files = os.listdir(directory_path)\n",
    "file_name='Rec1.fif'\n",
    "data_path=os.path.join(directory_path,file_name)\n",
    "# Check if the specific file exists\n",
    "file_exists = os.path.isfile(data_path)\n",
    "print(f\"File exists: {file_exists}\")"
   ]
  },
  {
   "cell_type": "markdown",
   "id": "11bd768a-97f1-48ca-bab8-c5f1980936e9",
   "metadata": {},
   "source": [
    "#### Data Loading"
   ]
  },
  {
   "cell_type": "code",
   "execution_count": 19,
   "id": "2540d147-dff3-4dc5-92a7-46686c423739",
   "metadata": {},
   "outputs": [
    {
     "name": "stdout",
     "output_type": "stream",
     "text": [
      "Opening raw data file /home/rakshita/rds_folders/EmptyRoom/Rec1.fif...\n"
     ]
    },
    {
     "name": "stderr",
     "output_type": "stream",
     "text": [
      "/tmp/ipykernel_51128/1999083531.py:2: RuntimeWarning: This filename (/home/rakshita/rds_folders/EmptyRoom/Rec1.fif) does not conform to MNE naming conventions. All raw files should end with raw.fif, raw_sss.fif, raw_tsss.fif, _meg.fif, _eeg.fif, _ieeg.fif, raw.fif.gz, raw_sss.fif.gz, raw_tsss.fif.gz, _meg.fif.gz, _eeg.fif.gz or _ieeg.fif.gz\n",
      "  raw = mne.io.read_raw_fif(data_path, preload=True)\n"
     ]
    },
    {
     "name": "stdout",
     "output_type": "stream",
     "text": [
      "Isotrak not found\n",
      "    Range : 0 ... 1499999 =      0.000 ...   300.000 secs\n",
      "Ready.\n",
      "Reading 0 ... 1499999  =      0.000 ...   300.000 secs...\n",
      "<Info | 16 non-empty values\n",
      " bads: []\n",
      " ch_names: s1_bz, L209_bz-s65, s2_bz, L207_bz-s66, R204_bz-s3, L205_bz-s67, ...\n",
      " chs: 72 Magnetometers, 1 Stimulus\n",
      " custom_ref_applied: False\n",
      " description: {\"chassis\":{\"version\":\"0.7.7- ...\n",
      " experimenter: AR\n",
      " file_id: 4 items (dict)\n",
      " gantry_angle: 0.0\n",
      " highpass: 0.0 Hz\n",
      " line_freq: 0.0\n",
      " lowpass: 500.0 Hz\n",
      " meas_date: 2024-08-23 15:22:40 UTC\n",
      " meas_id: 4 items (dict)\n",
      " nchan: 73\n",
      " proj_id: 1 item (ndarray)\n",
      " proj_name: NoiseDetection\n",
      " projs: []\n",
      " sfreq: 5000.0 Hz\n",
      " xplotter_layout: None\n",
      ">\n"
     ]
    }
   ],
   "source": [
    "#Data Loading\n",
    "raw = mne.io.read_raw_fif(data_path, preload=True)\n",
    "# Detailed information about the data\n",
    "print(raw.info)"
   ]
  },
  {
   "cell_type": "code",
   "execution_count": null,
   "id": "171ae1b0-cac9-4cb7-8406-92adb2c854df",
   "metadata": {},
   "outputs": [],
   "source": []
  }
 ],
 "metadata": {
  "kernelspec": {
   "display_name": "Python 3 (ipykernel)",
   "language": "python",
   "name": "python3"
  },
  "language_info": {
   "codemirror_mode": {
    "name": "ipython",
    "version": 3
   },
   "file_extension": ".py",
   "mimetype": "text/x-python",
   "name": "python",
   "nbconvert_exporter": "python",
   "pygments_lexer": "ipython3",
   "version": "3.12.4"
  }
 },
 "nbformat": 4,
 "nbformat_minor": 5
}
