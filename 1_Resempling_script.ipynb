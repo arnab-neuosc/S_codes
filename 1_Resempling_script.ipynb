{
 "cells": [
  {
   "cell_type": "markdown",
   "id": "7d87e7ed-e852-4645-86f7-b82ccd69bf5e",
   "metadata": {},
   "source": [
    "# Re-Sampling of OPM Data and saving it to a .fif file"
   ]
  },
  {
   "cell_type": "code",
   "execution_count": null,
   "id": "77d672a5-6bac-4781-ac0a-cb5a0345112c",
   "metadata": {},
   "outputs": [],
   "source": [
    "#Import necessary libraries and modules\n",
    "import mne\n",
    "import os\n",
    "import matplotlib\n",
    "import numpy as np\n",
    "import pandas as pd\n",
    "import matplotlib.pyplot as plt\n",
    "from scipy import signal\n",
    "import array\n",
    "import os\n",
    "import sys"
   ]
  },
  {
   "cell_type": "markdown",
   "id": "28dbcfb9-27d2-4cd6-a57b-219e9b6bc393",
   "metadata": {},
   "source": [
    "#### Checking if the files are accessible"
   ]
  },
  {
   "cell_type": "code",
   "execution_count": null,
   "id": "6ed39f27-c5ad-41ca-bd82-d1e3e4dfe7ad",
   "metadata": {},
   "outputs": [],
   "source": [
    "# List contents of the directory\n",
    "directory_path = '/home/rakshita/rds_folders/Sproject1/EmptyRoom/Recordings'\n",
    "files = os.listdir(directory_path)\n",
    "file_name='Rec1.fif'\n",
    "data_path=os.path.join(directory_path,file_name)\n",
    "# Check if the fif file exists in the location\n",
    "if not os.path.isfile(data_path):\n",
    "    raise FileNotFoundError(f\"The file {data_path} does not exist.\")\n",
    "file_exists = os.path.isfile(data_path)\n",
    "print(f\"File exists: {file_exists}\")\n",
    "print(f\"Loading data from {data_path}...\")"
   ]
  },
  {
   "cell_type": "markdown",
   "id": "11bd768a-97f1-48ca-bab8-c5f1980936e9",
   "metadata": {},
   "source": [
    "#### Data Loading"
   ]
  },
  {
   "cell_type": "code",
   "execution_count": null,
   "id": "2540d147-dff3-4dc5-92a7-46686c423739",
   "metadata": {},
   "outputs": [],
   "source": [
    "#Data Loading\n",
    "raw = mne.io.read_raw_fif(data_path, preload=True);\n",
    "# Detailed information about the data\n",
    "#print(raw.info);"
   ]
  },
  {
   "cell_type": "markdown",
   "id": "f0d130ba-22fd-44de-9fdf-ba353c2defbb",
   "metadata": {},
   "source": [
    "#### Filtering and Resampling"
   ]
  },
  {
   "cell_type": "code",
   "execution_count": null,
   "id": "836b5c86-65c1-4315-8c1b-5a1f8346dd5d",
   "metadata": {},
   "outputs": [],
   "source": [
    "# Provide your desired resampling frequency.\n",
    "desired_sfreq = 1000  \n",
    "output_file_path = None  \n",
    "\n",
    "current_sfreq = raw.info['sfreq']\n",
    "print(f\"Current sampling frequency: {current_sfreq} Hz\")\n",
    "\n",
    "# Checking if resample can be done\n",
    "if current_sfreq == desired_sfreq:\n",
    "    print(f\"The data is already at the desired sampling frequency of {desired_sfreq} Hz.\")\n",
    "    sys.exit(0)\n",
    "\n",
    "# Apply a low-pass filter at one-fourth of the desired sampling frequency to avoid aliasing\n",
    "lowpass_freq = desired_sfreq / 4.0\n",
    "print(f\"Applying low-pass filter with cutoff frequency of {lowpass_freq} Hz...\")\n",
    "raw_filtered = raw.copy().filter(l_freq=None, h_freq=lowpass_freq)\n",
    "\n",
    "# Resample the data using MNE default resampling function\n",
    "print(f\"Resampling data to {desired_sfreq} Hz...\")\n",
    "raw_filtered.resample(sfreq=desired_sfreq)\n",
    "\n",
    "# Set the output file path\n",
    "if output_file_path is None:\n",
    "    output_file_path = data_path.replace('.fif', f'_resampled_{desired_sfreq}Hz.fif')\n",
    "\n",
    "# Save the resampled data to a new .fif file\n",
    "print(f\"Saving resampled data to {output_file_path}...\")\n",
    "raw_filtered.save(output_file_path, overwrite=True)\n",
    "\n",
    "print(\"Resampling complete.\")\n",
    "\n"
   ]
  },
  {
   "cell_type": "code",
   "execution_count": 8,
   "id": "27c0466b-37ee-4f1b-890e-8a0c1e658adf",
   "metadata": {},
   "outputs": [
    {
     "name": "stdout",
     "output_type": "stream",
     "text": [
      "<Info | 16 non-empty values\n",
      " bads: []\n",
      " ch_names: s1_bz, L209_bz-s65, s2_bz, L207_bz-s66, R204_bz-s3, L205_bz-s67, ...\n",
      " chs: 72 Magnetometers, 1 Stimulus\n",
      " custom_ref_applied: False\n",
      " description: {\"chassis\":{\"version\":\"0.7.7- ...\n",
      " experimenter: AR\n",
      " file_id: 4 items (dict)\n",
      " gantry_angle: 0.0\n",
      " highpass: 0.0 Hz\n",
      " line_freq: 0.0\n",
      " lowpass: 250.0 Hz\n",
      " meas_date: 2024-08-23 15:22:40 UTC\n",
      " meas_id: 4 items (dict)\n",
      " nchan: 73\n",
      " proj_id: 1 item (ndarray)\n",
      " proj_name: NoiseDetection\n",
      " projs: []\n",
      " sfreq: 1000.0 Hz\n",
      " xplotter_layout: None\n",
      ">\n"
     ]
    }
   ],
   "source": [
    "print(raw_filtered.info)"
   ]
  },
  {
   "cell_type": "code",
   "execution_count": null,
   "id": "a03e6367-ce8a-47f9-b178-5e5453d8af98",
   "metadata": {},
   "outputs": [],
   "source": []
  }
 ],
 "metadata": {
  "kernelspec": {
   "display_name": "Python 3 (ipykernel)",
   "language": "python",
   "name": "python3"
  },
  "language_info": {
   "codemirror_mode": {
    "name": "ipython",
    "version": 3
   },
   "file_extension": ".py",
   "mimetype": "text/x-python",
   "name": "python",
   "nbconvert_exporter": "python",
   "pygments_lexer": "ipython3",
   "version": "3.12.4"
  }
 },
 "nbformat": 4,
 "nbformat_minor": 5
}
