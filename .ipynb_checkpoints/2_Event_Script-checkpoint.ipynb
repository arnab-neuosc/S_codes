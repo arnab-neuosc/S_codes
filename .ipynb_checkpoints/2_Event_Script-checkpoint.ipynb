{
 "cells": [
  {
   "cell_type": "markdown",
   "id": "c4a61a3e-28ad-4b4e-900f-aeda182dae6a",
   "metadata": {},
   "source": [
    "# Script for parsing the events "
   ]
  },
  {
   "cell_type": "code",
   "execution_count": 1,
   "id": "80eaa63f-2c55-4d7b-a514-54c94b7b8df3",
   "metadata": {},
   "outputs": [],
   "source": [
    "#Import necessary libraries and modules\n",
    "import mne\n",
    "import os\n",
    "import matplotlib\n",
    "import numpy as np\n",
    "import pandas as pd\n",
    "import matplotlib.pyplot as plt\n",
    "from scipy import signal\n",
    "import array\n"
   ]
  },
  {
   "cell_type": "code",
   "execution_count": null,
   "id": "64c48bc7-1d17-424b-900e-40e66cfff0ee",
   "metadata": {},
   "outputs": [],
   "source": [
    "# List contents of the directory\n",
    "directory_path = '/home/rakshita/rds_folders/Sproject1/EmptyRoom/Recordings'\n",
    "files = os.listdir(directory_path)"
   ]
  },
  {
   "cell_type": "markdown",
   "id": "f518ba00-d7ce-4a70-a2c0-f255e5ae9f78",
   "metadata": {},
   "source": [
    "### Enter the name of the OPM recording file"
   ]
  },
  {
   "cell_type": "code",
   "execution_count": null,
   "id": "99fdf941-7c92-4993-9608-ae6393839794",
   "metadata": {},
   "outputs": [],
   "source": [
    "file_name='Rec8.fif'"
   ]
  },
  {
   "cell_type": "code",
   "execution_count": null,
   "id": "31f9269f-cb53-4acb-8471-00d70477287d",
   "metadata": {},
   "outputs": [
    {
     "name": "stdout",
     "output_type": "stream",
     "text": [
      "File exists: True\n"
     ]
    }
   ],
   "source": [
    "data_path=os.path.join(directory_path,file_name)\n",
    "# Check if the specific file exists\n",
    "file_exists = os.path.isfile(data_path)\n",
    "print(f\"File exists: {file_exists}\")"
   ]
  },
  {
   "cell_type": "code",
   "execution_count": 12,
   "id": "fd8b8e36-d8de-4df2-b44a-776dc0483aff",
   "metadata": {},
   "outputs": [
    {
     "name": "stdout",
     "output_type": "stream",
     "text": [
      "Opening raw data file /home/rakshita/rds_folders/Sproject1/EmptyRoom/Recordings/Rec8.fif...\n"
     ]
    },
    {
     "name": "stderr",
     "output_type": "stream",
     "text": [
      "/tmp/ipykernel_8942/132356653.py:2: RuntimeWarning: This filename (/home/rakshita/rds_folders/Sproject1/EmptyRoom/Recordings/Rec8.fif) does not conform to MNE naming conventions. All raw files should end with raw.fif, raw_sss.fif, raw_tsss.fif, _meg.fif, _eeg.fif, _ieeg.fif, raw.fif.gz, raw_sss.fif.gz, raw_tsss.fif.gz, _meg.fif.gz, _eeg.fif.gz or _ieeg.fif.gz\n",
      "  raw = mne.io.read_raw_fif(data_path, preload=True)\n"
     ]
    },
    {
     "name": "stdout",
     "output_type": "stream",
     "text": [
      "Isotrak not found\n",
      "    Range : 0 ... 901799 =      0.000 ...   180.360 secs\n",
      "Ready.\n",
      "Reading 0 ... 901799  =      0.000 ...   180.360 secs...\n"
     ]
    }
   ],
   "source": [
    "#Data Loading\n",
    "raw = mne.io.read_raw_fif(data_path, preload=True)\n",
    "# Detailed information about the data\n",
    "#print(raw.info)"
   ]
  },
  {
   "cell_type": "markdown",
   "id": "463b1da9-b881-40b0-b2dd-0bf8f0f6f880",
   "metadata": {},
   "source": [
    "### Plot stimulus channel"
   ]
  },
  {
   "cell_type": "code",
   "execution_count": null,
   "id": "495cdbd9-0411-4578-96e9-8bd4d0be14f5",
   "metadata": {},
   "outputs": [],
   "source": [
    "# Plotting of the stimulus channel\n",
    "%matplotlib inline  \n",
    "raw.copy().pick(picks=\"stim\").plot()"
   ]
  },
  {
   "cell_type": "markdown",
   "id": "d474e01c-4bb2-4b22-ba94-30bb63246697",
   "metadata": {},
   "source": [
    "### Find all events"
   ]
  },
  {
   "cell_type": "code",
   "execution_count": 13,
   "id": "9a6a0480-53ad-4d8b-aa70-c71d287f2bbe",
   "metadata": {},
   "outputs": [
    {
     "name": "stdout",
     "output_type": "stream",
     "text": [
      "100 events found on stim channel di32\n",
      "Event IDs: [   1    2    6    7  300  400  500  800  900 1000 1100 1300]\n",
      "[[307047      0    900]\n",
      " [308560      0    300]\n",
      " [313783      0      1]\n",
      " [320571      0    400]\n",
      " [326782      0      6]\n",
      " [328785      0    800]\n",
      " [328807      0    300]\n",
      " [334498      0      1]\n",
      " [341432      0    400]\n",
      " [349917      0      6]\n",
      " [352303      0    800]\n",
      " [352328      0    300]\n",
      " [357546      0      2]\n",
      " [364502      0    400]\n",
      " [371882      0      7]\n",
      " [377439      0    300]\n",
      " [383061      0      1]\n",
      " [389908      0    400]\n",
      " [396894      0      6]\n",
      " [398306      0    800]\n",
      " [398327      0    300]\n",
      " [404020      0      2]\n",
      " [410698      0    400]\n",
      " [416281      0      7]\n",
      " [417822      0    800]\n",
      " [417846      0    300]\n",
      " [423857      0      1]\n",
      " [430750      0    400]\n",
      " [437121      0      6]\n",
      " [439422      0    800]\n",
      " [439445      0    300]\n",
      " [446530      0      2]\n",
      " [453404      0    400]\n",
      " [459002      0      7]\n",
      " [461182      0    800]\n",
      " [461207      0    300]\n",
      " [468666      0      2]\n",
      " [475405      0    400]\n",
      " [483792      0      7]\n",
      " [485501      0    800]\n",
      " [485525      0    300]\n",
      " [490834      0      2]\n",
      " [497516      0    400]\n",
      " [506310      0      7]\n",
      " [508542      0    800]\n",
      " [508566      0    300]\n",
      " [514472      0      2]\n",
      " [521486      0    400]\n",
      " [531108      0      7]\n",
      " [532699      0    800]\n",
      " [532772      0   1000]\n",
      " [585037      0    900]\n",
      " [586547      0    300]\n",
      " [592704      0      2]\n",
      " [599637      0    400]\n",
      " [608761      0      7]\n",
      " [611019      0    800]\n",
      " [611041      0    300]\n",
      " [617334      0      1]\n",
      " [624177      0    400]\n",
      " [629590      0      6]\n",
      " [635137      0    300]\n",
      " [640512      0   1300]\n",
      " [647518      0    500]\n",
      " [655901      0    800]\n",
      " [655925      0    300]\n",
      " [661939      0      1]\n",
      " [668963      0    400]\n",
      " [675772      0      6]\n",
      " [678458      0    800]\n",
      " [678484      0    300]\n",
      " [685612      0      1]\n",
      " [692821      0    400]\n",
      " [698989      0      6]\n",
      " [700455      0    800]\n",
      " [700474      0    300]\n",
      " [707742      0      1]\n",
      " [714538      0    400]\n",
      " [723080      0      6]\n",
      " [724535      0    800]\n",
      " [724559      0    300]\n",
      " [730250      0   1300]\n",
      " [737336      0    500]\n",
      " [749468      0    300]\n",
      " [754973      0      1]\n",
      " [762304      0    400]\n",
      " [771307      0      6]\n",
      " [772618      0    800]\n",
      " [772643      0    300]\n",
      " [779681      0      1]\n",
      " [786794      0    400]\n",
      " [796109      0      6]\n",
      " [797416      0    800]\n",
      " [797441      0    300]\n",
      " [802857      0      2]\n",
      " [809793      0    400]\n",
      " [818988      0      7]\n",
      " [820297      0    800]\n",
      " [820367      0   1000]\n",
      " [846073      0   1100]]\n"
     ]
    }
   ],
   "source": [
    "# Find all events\n",
    "events = mne.find_events(raw, stim_channel=\"di32\")\n",
    "print(events[:101])  # show the first 5"
   ]
  },
  {
   "cell_type": "markdown",
   "id": "38c5834e-e29f-4ac4-83be-41ca9b7ff920",
   "metadata": {},
   "source": [
    "### Saving the events to .csv file"
   ]
  },
  {
   "cell_type": "code",
   "execution_count": null,
   "id": "e366f31d-010b-49fc-a64f-58f51dd49299",
   "metadata": {},
   "outputs": [],
   "source": [
    "# Saving the events to a dataframe\n",
    "df = raw.to_data_frame(picks=[\"di32\"])\n",
    "\n",
    "# Saving the events to .csv file\n",
    "df.to_csv('out1.csv', index=False)"
   ]
  },
  {
   "cell_type": "markdown",
   "id": "40022a59-0d1d-4921-8977-4b9dfd62402e",
   "metadata": {},
   "source": [
    "### Creating event annotations"
   ]
  },
  {
   "cell_type": "code",
   "execution_count": 16,
   "id": "84577be7-fdf2-4ea2-a4fd-08314b0ec1f7",
   "metadata": {},
   "outputs": [],
   "source": [
    "# Creating event annotations\n",
    "event_dict = {\n",
    "    \"cue/right\": 1,\n",
    "    \"cue/left\": 2,\n",
    "    \"trialstart\":300,\n",
    "    \"stimonset\":400,\n",
    "    \"catchonset\":500,\n",
    "    \"dot/right\": 6,\n",
    "    \"dot/left\": 7,\n",
    "    \"resp\": 800,\n",
    "    \"blkstart\": 900,\n",
    "    \"blkend\":1000,\n",
    "    \"expend\":1100,\n",
    "    \"cue/noresp\":1300\n",
    "}"
   ]
  },
  {
   "cell_type": "markdown",
   "id": "5d31fa62-dec1-49ad-bca2-80b6aafbd852",
   "metadata": {},
   "source": [
    "### Plotting Events"
   ]
  },
  {
   "cell_type": "code",
   "execution_count": 17,
   "id": "a115778f-f797-408f-9ebb-d756ea0e8ae8",
   "metadata": {},
   "outputs": [
    {
     "name": "stderr",
     "output_type": "stream",
     "text": [
      "/tmp/ipykernel_8942/2411094694.py:2: RuntimeWarning: More events than default colors available. You should pass a list of unique colors.\n",
      "  fig = mne.viz.plot_events(\n"
     ]
    },
    {
     "data": {
      "image/png": "[encoded data removed]",
      "text/plain": [
       "<Figure size 640x480 with 1 Axes>"
      ]
     },
     "metadata": {},
     "output_type": "display_data"
    }
   ],
   "source": [
    "# Plotting Events\n",
    "fig = mne.viz.plot_events(\n",
    "    events, sfreq=raw.info[\"sfreq\"], first_samp=raw.first_samp, event_id=event_dict\n",
    ")"
   ]
  },
  {
   "cell_type": "markdown",
   "id": "b6848cb4-d0de-4243-9f24-741edf76c17f",
   "metadata": {},
   "source": [
    "### Plotting events and raw data together"
   ]
  },
  {
   "cell_type": "code",
   "execution_count": 22,
   "id": "e817c469-cb8d-4d71-b2b3-e7fbd4b97b81",
   "metadata": {},
   "outputs": [
    {
     "data": {
      "text/plain": [
       "<mne_qt_browser._pg_figure.MNEQtBrowser at 0x7d1840911b50>"
      ]
     },
     "execution_count": 22,
     "metadata": {},
     "output_type": "execute_result"
    }
   ],
   "source": [
    "# Plotting events and raw data together\n",
    "raw.plot(\n",
    "    events=events,\n",
    "    start=5,\n",
    "    duration=1,\n",
    "    color=\"gray\",\n",
    "    event_color={  # Correctly opening the dictionary here\n",
    "        1: \"red\",\n",
    "        2: \"green\",    \n",
    "        300: \"blue\",   \n",
    "        400: \"magenta\",\n",
    "        500: \"yellow\", \n",
    "        6: \"black\",    \n",
    "        7: \"orange\",   \n",
    "        800: \"purple\", \n",
    "        900: \"cyan\",   \n",
    "        1000: \"lime\",  \n",
    "        1100: \"pink\",  \n",
    "        1300: \"brown\"  \n",
    "    }  # Correctly closing the dictionary here\n",
    ")  # Correctly closing the plot function call here\n"
   ]
  },
  {
   "cell_type": "code",
   "execution_count": null,
   "id": "35044560-ca9e-4354-89e2-2b97f144be75",
   "metadata": {},
   "outputs": [],
   "source": []
  }
 ],
 "metadata": {
  "kernelspec": {
   "display_name": "Python 3 (ipykernel)",
   "language": "python",
   "name": "python3"
  },
  "language_info": {
   "codemirror_mode": {
    "name": "ipython",
    "version": 3
   },
   "file_extension": ".py",
   "mimetype": "text/x-python",
   "name": "python",
   "nbconvert_exporter": "python",
   "pygments_lexer": "ipython3",
   "version": "3.12.4"
  }
 },
 "nbformat": 4,
 "nbformat_minor": 5
}
