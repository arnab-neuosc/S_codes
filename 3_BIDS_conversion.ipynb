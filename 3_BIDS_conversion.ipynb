{
 "cells": [
  {
   "cell_type": "markdown",
   "id": "d7510c47-6a5a-445c-a683-5bdf66f9f95d",
   "metadata": {},
   "source": [
    "#### Load Necessary Modules"
   ]
  },
  {
   "cell_type": "code",
   "execution_count": null,
   "id": "4e44ff1c-fbfa-4c8b-b795-93ed1e0ceae5",
   "metadata": {},
   "outputs": [],
   "source": [
    "import json\n",
    "import os.path as op\n",
    "import shutil\n",
    "from pprint import pprint\n",
    "\n",
    "import mne\n",
    "from mne.datasets import sample\n",
    "\n",
    "from mne_bids import (\n",
    "    BIDSPath,\n",
    "    make_dataset_description,\n",
    "    print_dir_tree,\n",
    "    read_raw_bids,\n",
    "    write_meg_calibration,\n",
    "    write_meg_crosstalk,\n",
    "    write_raw_bids,\n",
    ")\n",
    "from mne_bids.stats import count_events"
   ]
  },
  {
   "cell_type": "markdown",
   "id": "3dcac478-cf8f-469d-b6f5-2ff8416d034b",
   "metadata": {},
   "source": [
    "#### Creating Data Path and Event Dictionary"
   ]
  },
  {
   "cell_type": "code",
   "execution_count": null,
   "id": "c0a3fa98-fef5-48cc-912d-6f8b67ecb7ca",
   "metadata": {},
   "outputs": [],
   "source": [
    "data_path='/home/rakshita/rds_folders/Sproject1/EmptyRoom/Recordings'\n",
    "event_dict = {\n",
    "    \"cue/right\": 1,\n",
    "    \"cue/left\": 2,\n",
    "    \"trialstart\":300,\n",
    "    \"stimonset\":400,\n",
    "    \"catchonset\":500,\n",
    "    \"dot/right\": 6,\n",
    "    \"dot/left\": 7,\n",
    "    \"resp\": 800,\n",
    "    \"blkstart\": 900,\n",
    "    \"blkend\":1000,\n",
    "    \"expend\":1100,\n",
    "    \"cue/noresp\":1300\n",
    "}\n",
    "\n",
    "raw_fname = op.join(data_path,\"Rec8.fif\")\n",
    "er_fname = op.join(data_path,\"Rec1.fif\")  # empty room\n",
    "events_fname = op.join(data_path,\"Rec8_events.fif\")\n",
    "output_path = op.join(data_path, \"MNE-bids_rec11Sep\")"
   ]
  },
  {
   "cell_type": "markdown",
   "id": "10ca588f-6e29-4274-aaa0-fca55c99c457",
   "metadata": {},
   "source": [
    "#### Delete the output directory if exists"
   ]
  },
  {
   "cell_type": "code",
   "execution_count": null,
   "id": "58a991cd-eaec-45a8-9b3a-cd90dd90a2de",
   "metadata": {},
   "outputs": [],
   "source": [
    "if op.exists(output_path):\n",
    "    shutil.rmtree(output_path)"
   ]
  },
  {
   "cell_type": "markdown",
   "id": "0922171b-96d7-4f34-8aa3-a05bf5dd00a9",
   "metadata": {},
   "source": [
    "#### Load Raw files from original OPM subject recording and Emptyroom Recording"
   ]
  },
  {
   "cell_type": "code",
   "execution_count": null,
   "id": "5d991745-b8e9-49c7-92b1-ed0c01e6dfeb",
   "metadata": {},
   "outputs": [],
   "source": [
    "raw = mne.io.read_raw(raw_fname)\n",
    "raw_er = mne.io.read_raw(er_fname)"
   ]
  },
  {
   "cell_type": "markdown",
   "id": "d8013e1d-2d57-4bfa-b42e-0da444b87ce7",
   "metadata": {},
   "source": [
    "#### Change All channel types to 'mag' channels except the'stim' channel"
   ]
  },
  {
   "cell_type": "code",
   "execution_count": null,
   "id": "2d8f9617-8a63-45aa-96e3-6f354fabd291",
   "metadata": {},
   "outputs": [],
   "source": [
    "ch_names = raw.info['ch_names']\n",
    "ch_types = raw.get_channel_types()\n",
    "\n",
    "channel_types_opm = {}\n",
    "for ch_name, ch_type in zip(ch_names, ch_types):\n",
    "    if ch_type != 'stim':\n",
    "        channel_types_opm[ch_name] = 'mag'\n",
    "\n",
    "# Set all channel types to 'mag' except 'stim'\n",
    "raw.set_channel_types(channel_types_opm)\n",
    "#raw.get_channel_types()"
   ]
  },
  {
   "cell_type": "code",
   "execution_count": null,
   "id": "8690f97f-7ae1-4105-b980-b47ce0c17439",
   "metadata": {},
   "outputs": [],
   "source": [
    "ch_names_er = raw_er.info['ch_names']\n",
    "ch_types_er = raw_er.get_channel_types()\n",
    "\n",
    "channel_types_opm_er = {}\n",
    "for ch_name_er, ch_type_er in zip(ch_names_er, ch_types_er):\n",
    "    if ch_type_er != 'stim':\n",
    "        channel_types_opm_er[ch_name_er] = 'mag'\n",
    "\n",
    "# Set all channel types to 'mag' except 'stim'\n",
    "raw_er.set_channel_types(channel_types_opm_er)\n",
    "#raw_er.get_channel_types()"
   ]
  },
  {
   "cell_type": "markdown",
   "id": "c3f340ac-163c-4aea-9c25-d53a52332f7e",
   "metadata": {},
   "source": [
    "#### Convert to BIDS format"
   ]
  },
  {
   "cell_type": "code",
   "execution_count": null,
   "id": "a327bd92-4e9a-482c-be2f-72de627a0685",
   "metadata": {},
   "outputs": [],
   "source": [
    "# specify power line frequency as required by BIDS\n",
    "raw.info[\"line_freq\"] = 60\n",
    "raw_er.info[\"line_freq\"] = 60\n",
    "\n",
    "subject = '01'  \n",
    "session = '01'  \n",
    "task = 'SpAtt'\n",
    "\n",
    "bids_path = BIDSPath(\n",
    "    subject=subject, session=session, task=task, run=\"1\", datatype=\"meg\", root=output_path\n",
    ")\n",
    "write_raw_bids(\n",
    "    raw=raw,\n",
    "    bids_path=bids_path,\n",
    "    events=events_fname,\n",
    "    event_id=event_dict,\n",
    "    empty_room=raw_er,\n",
    "    overwrite=True,\n",
    ")"
   ]
  },
  {
   "cell_type": "markdown",
   "id": "0c1425d8-daef-4791-8e1a-6975b33fb57a",
   "metadata": {},
   "source": [
    "#### Print newly created BIDS Directory"
   ]
  },
  {
   "cell_type": "code",
   "execution_count": null,
   "id": "7a669403-fc9e-40d0-b6ef-fea7261b7255",
   "metadata": {},
   "outputs": [],
   "source": [
    "print_dir_tree(output_path)"
   ]
  }
 ],
 "metadata": {
  "kernelspec": {
   "display_name": "Python 3 (ipykernel)",
   "language": "python",
   "name": "python3"
  },
  "language_info": {
   "codemirror_mode": {
    "name": "ipython",
    "version": 3
   },
   "file_extension": ".py",
   "mimetype": "text/x-python",
   "name": "python",
   "nbconvert_exporter": "python",
   "pygments_lexer": "ipython3",
   "version": "3.12.4"
  }
 },
 "nbformat": 4,
 "nbformat_minor": 5
}
